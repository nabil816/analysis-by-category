{
 "cells": [
  {
   "cell_type": "code",
   "execution_count": 1,
   "id": "ce49d457",
   "metadata": {},
   "outputs": [],
   "source": [
    "dataset_today =  'Marketing Data.xlsx'"
   ]
  },
  {
   "cell_type": "markdown",
   "id": "dcc77273",
   "metadata": {},
   "source": [
    "# Importing Data And Libraries"
   ]
  },
  {
   "cell_type": "code",
   "execution_count": 2,
   "id": "6003f850",
   "metadata": {},
   "outputs": [],
   "source": [
    "import os\n",
    "import pandas as pd\n",
    "import numpy as np\n",
    "import matplotlib.pyplot as plt\n",
    "from sklearn.cluster import KMeans"
   ]
  },
  {
   "cell_type": "code",
   "execution_count": 3,
   "id": "19293a74",
   "metadata": {},
   "outputs": [],
   "source": [
    "dataset = pd.read_excel(dataset_today)\n",
    "df = dataset.copy()"
   ]
  },
  {
   "cell_type": "markdown",
   "id": "969e6b26",
   "metadata": {},
   "source": [
    "# Cleaning Part"
   ]
  },
  {
   "cell_type": "markdown",
   "id": "eb6b5745",
   "metadata": {},
   "source": [
    "### Extract the year and the month columns\n"
   ]
  },
  {
   "cell_type": "code",
   "execution_count": 4,
   "id": "3698fdb8",
   "metadata": {},
   "outputs": [],
   "source": [
    "df['day'] = pd.to_datetime(df['Date']).dt.day\n",
    "d = list(df['day'].dropna().unique())\n",
    "\n",
    "df['month'] = pd.to_datetime(df['Date']).dt.month_name()\n",
    "m = list(df['month'].dropna().unique())\n",
    "\n",
    "df['year'] = pd.to_datetime(df['Date']).dt.year\n",
    "y = list(df['year'].dropna().unique())"
   ]
  },
  {
   "cell_type": "code",
   "execution_count": 5,
   "id": "73b86432",
   "metadata": {},
   "outputs": [],
   "source": [
    "df['فريق المبيعات'].replace({ 'مبيعات نقاط بيع راحتي الدمام': 'الدمام'\n",
    "                             ,'مبيعات نقاط بيع فرع بريدة الكبير 1' : 'بريدة الكبير 1', \n",
    "                            'مبيعات نقاط بيع راحتي الرس': 'الرس',\n",
    "                            'مبيعات نقاط  بيع راحتي  الرياض 1 اثاث': 'الرياض 1 اثاث',\n",
    "                             'مبيعات نقاط بيع راحتي حائل 1' : 'حائل 1',\n",
    "                            'مبيعات نقاط بيع راحتي الطائف الكبير 1' : 'الطائف الكبير 1', \n",
    "                            'مبيعات نقاط بيع راحتي بريدة الكبير 2' : 'بريدة الكبير 2',\n",
    "                            'مبيعات نقاط بيع قصر البيان حائل': 'قصر البيان حائل', \n",
    "                            'مبيعات نقاط بيع راحتي حفر الباطن': 'حفر الباطن',\n",
    "                            'مبيعات نقاط بيع راحتي حائل 2' : 'حائل 2', \n",
    "                            'مبيعات نقاط بيع راحتي البدائع': 'البدائع',\n",
    "                             'مبيعات نقاط بيع متجر راحتي الالكتروني': 'متجر راحتي الالكتروني',\n",
    "                             'مبيعات نقاط بيع راحتي الرياض2 مفروشات': 'الرياض2 مفروشات',\n",
    "                            'مبيعات نقاط بيع راحتي الطائف الصغير 2' : 'الطائف الصغير 2',\n",
    "                             'مبيعات نقاط بيع قصر البيان الرس': 'قصر البيان الرس',\n",
    "                             'مبيعات متجر قصر البيان الإلكتروني': 'قصر البيان الإلكتروني', \n",
    "                             'مبيعات فرع تبوك': 'فرع تبوك',\n",
    "                            'مبيعات الموقع تبوك': 'الموقع تبوك'}, inplace = True)"
   ]
  },
  {
   "cell_type": "markdown",
   "id": "e504d381",
   "metadata": {},
   "source": [
    "### Change the directory in order to put all the excel files reports in the day folder"
   ]
  },
  {
   "cell_type": "code",
   "execution_count": 6,
   "id": "8a967b1a",
   "metadata": {},
   "outputs": [],
   "source": [
    "root_path = 'Desktop/'\n",
    "os.mkdir(os.path.join(root_path, 'تحليل فروع بالكلمة') )\n",
    "os.chdir(os.path.join(root_path, 'تحليل فروع بالكلمة' ))"
   ]
  },
  {
   "cell_type": "markdown",
   "id": "88be6d1c",
   "metadata": {},
   "source": [
    "### Prepare the required Columns"
   ]
  },
  {
   "cell_type": "code",
   "execution_count": 7,
   "id": "f8b26324",
   "metadata": {},
   "outputs": [],
   "source": [
    "df['discount amount'] = df['Quantity'] * df['Discount per Unit (abs)']\n",
    "df['discount percentage'] = ((df['Discount (%)'] / 100) * df['Unit Price']) *df['Quantity']\n",
    "df['Total discount'] = df['discount amount']  + df['discount percentage']\n",
    "df['price before discount'] = df['Unit Price'] * df['Quantity']\n",
    "df['Cost per unit'] = df['Cost'] * df['Quantity']\n",
    "df['vat'] = df['Subtotal'] / 1.15\n",
    "df['profit margin'] = df['vat'] - df['Cost'] \n",
    "df['Profit margin percentage'] = df['profit margin'] /df['vat']"
   ]
  },
  {
   "cell_type": "markdown",
   "id": "6ee63bd5",
   "metadata": {},
   "source": [
    "### Prepare different pages "
   ]
  },
  {
   "cell_type": "markdown",
   "id": "070b5377",
   "metadata": {},
   "source": [
    "#### Page of Deposits"
   ]
  },
  {
   "cell_type": "code",
   "execution_count": 8,
   "id": "6f74cb9e",
   "metadata": {},
   "outputs": [],
   "source": [
    "df_deposit = df[df['Product Category'].str.contains( 'منتجات مصروفات الشركة')]\n",
    "df.loc[df_deposit.index,\"Quantity\"] = 1"
   ]
  },
  {
   "cell_type": "markdown",
   "id": "a67ab2b8",
   "metadata": {},
   "source": [
    "#### Page of services and installment"
   ]
  },
  {
   "cell_type": "code",
   "execution_count": 9,
   "id": "172bc7d4",
   "metadata": {},
   "outputs": [],
   "source": [
    "df_services = df[df['Product Category'].str.contains('خدمات-44 ')]"
   ]
  },
  {
   "cell_type": "code",
   "execution_count": 10,
   "id": "30f14059",
   "metadata": {},
   "outputs": [],
   "source": [
    "df_installment = df[df['Product Category'].str.contains( 'خدمات التقسيط')]\n",
    "df_services =pd.concat([df_services, df_installment])"
   ]
  },
  {
   "cell_type": "markdown",
   "id": "2f761dcb",
   "metadata": {},
   "source": [
    "#### Get the additional discounts rows, put it in dataframe and save it as a file"
   ]
  },
  {
   "cell_type": "code",
   "execution_count": 11,
   "id": "fd8906bf",
   "metadata": {},
   "outputs": [
    {
     "name": "stderr",
     "output_type": "stream",
     "text": [
      "C:\\Users\\Rahaty Store\\AppData\\Local\\Temp\\ipykernel_4988\\2280359067.py:3: SettingWithCopyWarning: \n",
      "A value is trying to be set on a copy of a slice from a DataFrame\n",
      "\n",
      "See the caveats in the documentation: https://pandas.pydata.org/pandas-docs/stable/user_guide/indexing.html#returning-a-view-versus-a-copy\n",
      "  df_all.drop(df_addition_discount.index, inplace = True)\n"
     ]
    }
   ],
   "source": [
    "df_all = df[df['Product Category'].str.contains( 'All')]\n",
    "df_addition_discount = df_all[df_all['Product Category'].str.contains('[11223344] RS خصم اضافي للعميل')]\n",
    "df_all.drop(df_addition_discount.index, inplace = True)\n",
    "df_services = pd.concat([df_services, df_all])\n",
    "df_addition_discount.to_excel('addition_discount report.xlsx',  index = False)"
   ]
  },
  {
   "cell_type": "markdown",
   "id": "182cdd71",
   "metadata": {},
   "source": [
    "#### Page of zero qunatity"
   ]
  },
  {
   "cell_type": "code",
   "execution_count": 12,
   "id": "87764b7f",
   "metadata": {},
   "outputs": [],
   "source": [
    "df_0 = df[df['Quantity'] == 0 ]\n",
    "df.drop(df_0.index, inplace = True)"
   ]
  },
  {
   "cell_type": "markdown",
   "id": "643957e1",
   "metadata": {},
   "source": [
    "# Analytical Part"
   ]
  },
  {
   "cell_type": "markdown",
   "id": "5497d2af",
   "metadata": {},
   "source": [
    "## Product Reports"
   ]
  },
  {
   "cell_type": "markdown",
   "id": "dcc87b46",
   "metadata": {},
   "source": [
    "### Drop additional discounts, services, and deposits from dataframe in order to get accurate results"
   ]
  },
  {
   "cell_type": "code",
   "execution_count": 13,
   "id": "965b392b",
   "metadata": {},
   "outputs": [],
   "source": [
    "df2 = df.copy()\n",
    "df2.drop(df_addition_discount.index, inplace = True)\n",
    "df2.drop(df_services.index, errors= 'ignore', inplace = True)\n",
    "df2.drop(df_deposit.index, errors= 'ignore', inplace = True)\n",
    "df2.dropna(inplace = True)"
   ]
  },
  {
   "cell_type": "markdown",
   "id": "4ab478c6",
   "metadata": {},
   "source": [
    "### Barcode DataFrame"
   ]
  },
  {
   "cell_type": "code",
   "execution_count": 14,
   "id": "c696dc13",
   "metadata": {},
   "outputs": [],
   "source": [
    "barcode = df[['Product','Barcode']].drop_duplicates()\n",
    "barcode.rename(columns = {'Product' : 'المنتج', 'Barcode': 'باركود'},inplace = True)"
   ]
  },
  {
   "cell_type": "markdown",
   "id": "0038dd39",
   "metadata": {},
   "source": [
    "### Category Per day "
   ]
  },
  {
   "cell_type": "code",
   "execution_count": 15,
   "id": "7259c43d",
   "metadata": {},
   "outputs": [
    {
     "name": "stdout",
     "output_type": "stream",
     "text": [
      "write the word you want to filter based onشتو\n"
     ]
    }
   ],
   "source": [
    "df['Month_day'] = df['day'].astype(str) +' '+ df['month']\n",
    "word = input('write the word you want to filter based on')\n",
    "word_df = df[df['Product Category'].str.contains(word)].copy()\n",
    "Month_day = list(word_df['Month_day'].unique())"
   ]
  },
  {
   "cell_type": "code",
   "execution_count": 16,
   "id": "89786c7e",
   "metadata": {},
   "outputs": [],
   "source": [
    "Data_all = pd.DataFrame()\n",
    "for d in Month_day:\n",
    "    day =  word_df[word_df['Month_day'] == d]\n",
    "    branches = list(day['فريق المبيعات'].unique())\n",
    "    for b in branches:\n",
    "        branch =  day[day['فريق المبيعات'] == b]\n",
    "        df_sales = pd.pivot_table(branch, index=['فريق المبيعات','Product'], values=('Subtotal'), aggfunc = 'sum')\n",
    "        df_sales.reset_index(inplace = True)\n",
    "        df_sales.rename(columns ={'Subtotal':'إجمالي المبيعات',\n",
    "                                  \"Product\": 'المنتج'}, inplace = True) \n",
    "\n",
    "        df_sold_units = pd.pivot_table(branch,index=['فريق المبيعات' ,'Product'], values=('Quantity'), aggfunc = 'sum')\n",
    "        df_sold_units.reset_index(inplace = True)\n",
    "        df_sold_units.rename(columns ={'Quantity':'عدد الوحدات',\n",
    "                                       \"Product\": 'المنتج'}, inplace = True)\n",
    "        \n",
    "        \n",
    "        all_data = df_sales.merge(df_sold_units, on= ['فريق المبيعات' ,'المنتج'], how = 'inner')\n",
    "        all_data = all_data.merge(barcode, on='المنتج' , how = 'inner')\n",
    "        \n",
    "        all_data.loc['الاجمالي', 'عدد الوحدات'] =  df_sold_units['عدد الوحدات'].sum()\n",
    "        all_data.loc['الاجمالي', 'إجمالي المبيعات'] = df_sales['إجمالي المبيعات'].sum()\n",
    "        all_data.loc['', :] = ''\n",
    "        all_data.loc[' ', :] = ' '\n",
    "        all_data.loc[' ',  all_data.columns] = all_data.columns \n",
    "        \n",
    "        Data_all = pd.concat([Data_all, all_data])\n",
    "        Data_all = Data_all[['فريق المبيعات',\n",
    "                    'باركود',\n",
    "                    'المنتج',\n",
    "                    'عدد الوحدات',\n",
    "                    'إجمالي المبيعات']]        \n",
    "    if os.path.exists(('منتجات شتوية' + '.xlsx')) == False:\n",
    "        Data_all.set_index('فريق المبيعات')\n",
    "        Data_all.to_excel(('منتجات شتوية باليوم' +'.xlsx'), sheet_name= d) \n",
    "    else:    \n",
    "        with pd.ExcelWriter(('منتجات شتوية باليوم' + '.xlsx'), engine='openpyxl', mode='a') as writer:\n",
    "            Data_all.to_excel(writer, sheet_name= d)  \n",
    "    Data_all = pd.DataFrame()\n"
   ]
  },
  {
   "cell_type": "markdown",
   "id": "a551764a",
   "metadata": {},
   "source": [
    "### Category Per branch \n"
   ]
  },
  {
   "cell_type": "code",
   "execution_count": 17,
   "id": "966a7ef9",
   "metadata": {},
   "outputs": [
    {
     "name": "stdout",
     "output_type": "stream",
     "text": [
      "write the word you want to filter based onشتو\n"
     ]
    }
   ],
   "source": [
    "df['Month_day'] = df['day'].astype(str) +' '+ df['month']\n",
    "branches = list(df['فريق المبيعات'].unique())\n",
    "word = input('write the word you want to filter based on')\n",
    "word_df = df[df['Product Category'].str.contains(word)].copy()\n",
    "Month_day = list(word_df['Month_day'].unique())"
   ]
  },
  {
   "cell_type": "code",
   "execution_count": 18,
   "id": "dc97363c",
   "metadata": {},
   "outputs": [],
   "source": [
    "for b in branches:\n",
    "    branch =  word_df[word_df['فريق المبيعات'] == b]\n",
    "    df_sales = pd.pivot_table(branch, index=['Product'], values=('Subtotal'), aggfunc = 'sum')\n",
    "    df_sales.reset_index(inplace = True)\n",
    "    df_sales.rename(columns ={'Subtotal':'قمية القطع المباعة',\n",
    "                              \"Product\": 'المنتج'}, inplace = True) \n",
    "\n",
    "    df_sold_units = pd.pivot_table(branch,index=['Product'], values=('Quantity'), aggfunc = 'sum')\n",
    "    df_sold_units.reset_index(inplace = True)\n",
    "    df_sold_units.rename(columns ={'Quantity':'عدد القطع المباعة',\n",
    "                                   \"Product\": 'المنتج'}, inplace = True)\n",
    "        \n",
    "        \n",
    "    all_data = df_sales.merge(df_sold_units, on= ['المنتج'], how = 'inner')\n",
    "    all_data = all_data.merge(barcode, on='المنتج' , how = 'inner')\n",
    "    try:\n",
    "        all_data = all_data[all_data['قمية القطع المباعة'] > 0]\n",
    "        all_data = all_data.sort_values(by= ['قمية القطع المباعة', 'عدد القطع المباعة'], ascending = False)\n",
    "        all_data['نسبة من إجمالي المبيعات'] = all_data['قمية القطع المباعة'] / all_data['قمية القطع المباعة'].sum()\n",
    "        all_data = all_data[['المنتج',\n",
    "                             'باركود',\n",
    "                             'عدد القطع المباعة',\n",
    "                             'قمية القطع المباعة',\n",
    "                             'نسبة من إجمالي المبيعات'\n",
    "                            ]]\n",
    "        \n",
    "        all_data.set_index('المنتج', inplace = True)\n",
    "    except:\n",
    "        continue\n",
    "    all_data.loc['الاجمالي', 'عدد القطع المباعة'] =  df_sold_units['عدد القطع المباعة'].sum()\n",
    "    all_data.loc['الاجمالي', 'قمية القطع المباعة'] = df_sales['قمية القطع المباعة'].sum()\n",
    "    all_data.loc['الاجمالي', 'نسبة من إجمالي المبيعات'] = all_data['نسبة من إجمالي المبيعات'].sum()\n",
    "    all_data.loc['الاجمالي', 'باركود'] = df_sold_units['عدد القطع المباعة'].count()\n",
    "    \n",
    "    \n",
    "    if os.path.exists(('منتجات شتوية بالفرع' + '.xlsx')) == False:\n",
    "        all_data.to_excel(('منتجات شتوية بالفرع' +'.xlsx'), sheet_name= b) \n",
    "    else:    \n",
    "        with pd.ExcelWriter(('منتجات شتوية بالفرع' + '.xlsx'), engine='openpyxl', mode='a') as writer:\n",
    "            all_data.to_excel(writer, sheet_name= b)  "
   ]
  }
 ],
 "metadata": {
  "kernelspec": {
   "display_name": "Python 3 (ipykernel)",
   "language": "python",
   "name": "python3"
  },
  "language_info": {
   "codemirror_mode": {
    "name": "ipython",
    "version": 3
   },
   "file_extension": ".py",
   "mimetype": "text/x-python",
   "name": "python",
   "nbconvert_exporter": "python",
   "pygments_lexer": "ipython3",
   "version": "3.11.5"
  }
 },
 "nbformat": 4,
 "nbformat_minor": 5
}
